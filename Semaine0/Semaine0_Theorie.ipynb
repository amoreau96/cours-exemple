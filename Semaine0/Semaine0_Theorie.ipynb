{
  "nbformat": 4,
  "nbformat_minor": 0,
  "metadata": {
    "colab": {
      "provenance": [],
      "toc_visible": true
    },
    "kernelspec": {
      "name": "python3",
      "display_name": "Python 3"
    },
    "language_info": {
      "name": "python"
    }
  },
  "cells": [
    {
      "cell_type": "markdown",
      "source": [
        "# Mégadonnées, intelligence d'affaires et intelligence artificielle"
      ],
      "metadata": {
        "id": "XT33jwjhYKjK"
      }
    },
    {
      "cell_type": "markdown",
      "source": [
        "Le comité sectoriel en technologie de l’information et des communication (TechnoCompétences) définit l’intelligence numérique comme englobant notamment le domaine des **mégadonnées**, de l’**intelligence d’affaires** et de l’**intelligence artificielle**.  Mais qu'est-ce que ces concepts représentent?  Comment travaillent-ils ensemble?  Quelles sont les différences entre l'intelligence d'affaires et l'intelligence artificielle?  Ce sont, entre autres, les questions que nous explorerons cette semaine."
      ],
      "metadata": {
        "id": "xrx9QtxPYQOv"
      }
    },
    {
      "cell_type": "markdown",
      "source": [
        "## Mégadonnées"
      ],
      "metadata": {
        "id": "hhWXeSHdY7aT"
      }
    }
  ]
}